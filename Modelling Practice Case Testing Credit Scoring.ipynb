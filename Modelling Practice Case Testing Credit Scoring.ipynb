{
 "cells": [
  {
   "cell_type": "markdown",
   "metadata": {},
   "source": [
    "# Modelling"
   ]
  },
  {
   "cell_type": "code",
   "execution_count": 145,
   "metadata": {},
   "outputs": [],
   "source": [
    "import pandas as pd\n",
    "import seaborn as sns\n",
    "import matplotlib.pyplot as plt"
   ]
  },
  {
   "cell_type": "code",
   "execution_count": 146,
   "metadata": {},
   "outputs": [
    {
     "data": {
      "text/html": [
       "<div>\n",
       "<style scoped>\n",
       "    .dataframe tbody tr th:only-of-type {\n",
       "        vertical-align: middle;\n",
       "    }\n",
       "\n",
       "    .dataframe tbody tr th {\n",
       "        vertical-align: top;\n",
       "    }\n",
       "\n",
       "    .dataframe thead th {\n",
       "        text-align: right;\n",
       "    }\n",
       "</style>\n",
       "<table border=\"1\" class=\"dataframe\">\n",
       "  <thead>\n",
       "    <tr style=\"text-align: right;\">\n",
       "      <th></th>\n",
       "      <th>ID</th>\n",
       "      <th>LIMIT_BAL</th>\n",
       "      <th>MARRIAGE</th>\n",
       "      <th>EDUCATION</th>\n",
       "      <th>SEX</th>\n",
       "      <th>AGE</th>\n",
       "      <th>PAY_1</th>\n",
       "      <th>PAY_2</th>\n",
       "      <th>PAY_3</th>\n",
       "      <th>BILL_AMT1</th>\n",
       "      <th>BILL_AMT2</th>\n",
       "      <th>BILL_AMT3</th>\n",
       "      <th>PAY_AMT1</th>\n",
       "      <th>PAY_AMT2</th>\n",
       "      <th>PAY_AMT3</th>\n",
       "      <th>TARGET</th>\n",
       "    </tr>\n",
       "  </thead>\n",
       "  <tbody>\n",
       "    <tr>\n",
       "      <th>0</th>\n",
       "      <td>1</td>\n",
       "      <td>30000.0</td>\n",
       "      <td>1</td>\n",
       "      <td>1</td>\n",
       "      <td>2</td>\n",
       "      <td>40</td>\n",
       "      <td>0</td>\n",
       "      <td>0</td>\n",
       "      <td>0</td>\n",
       "      <td>24607.0</td>\n",
       "      <td>24430.0</td>\n",
       "      <td>23881.0</td>\n",
       "      <td>1700.0</td>\n",
       "      <td>1600.0</td>\n",
       "      <td>1287.0</td>\n",
       "      <td>0</td>\n",
       "    </tr>\n",
       "    <tr>\n",
       "      <th>1</th>\n",
       "      <td>2</td>\n",
       "      <td>20000.0</td>\n",
       "      <td>1</td>\n",
       "      <td>1</td>\n",
       "      <td>2</td>\n",
       "      <td>41</td>\n",
       "      <td>1</td>\n",
       "      <td>2</td>\n",
       "      <td>0</td>\n",
       "      <td>17040.0</td>\n",
       "      <td>16474.0</td>\n",
       "      <td>17203.0</td>\n",
       "      <td>0.0</td>\n",
       "      <td>1300.0</td>\n",
       "      <td>1500.0</td>\n",
       "      <td>0</td>\n",
       "    </tr>\n",
       "    <tr>\n",
       "      <th>2</th>\n",
       "      <td>3</td>\n",
       "      <td>20000.0</td>\n",
       "      <td>1</td>\n",
       "      <td>1</td>\n",
       "      <td>2</td>\n",
       "      <td>36</td>\n",
       "      <td>0</td>\n",
       "      <td>0</td>\n",
       "      <td>0</td>\n",
       "      <td>17332.0</td>\n",
       "      <td>18600.0</td>\n",
       "      <td>17947.0</td>\n",
       "      <td>1580.0</td>\n",
       "      <td>1367.0</td>\n",
       "      <td>1178.0</td>\n",
       "      <td>0</td>\n",
       "    </tr>\n",
       "    <tr>\n",
       "      <th>3</th>\n",
       "      <td>4</td>\n",
       "      <td>20000.0</td>\n",
       "      <td>1</td>\n",
       "      <td>1</td>\n",
       "      <td>2</td>\n",
       "      <td>35</td>\n",
       "      <td>0</td>\n",
       "      <td>0</td>\n",
       "      <td>0</td>\n",
       "      <td>2003.0</td>\n",
       "      <td>2948.0</td>\n",
       "      <td>3372.0</td>\n",
       "      <td>1086.0</td>\n",
       "      <td>1000.0</td>\n",
       "      <td>0.0</td>\n",
       "      <td>0</td>\n",
       "    </tr>\n",
       "    <tr>\n",
       "      <th>4</th>\n",
       "      <td>5</td>\n",
       "      <td>170000.0</td>\n",
       "      <td>1</td>\n",
       "      <td>1</td>\n",
       "      <td>2</td>\n",
       "      <td>38</td>\n",
       "      <td>0</td>\n",
       "      <td>0</td>\n",
       "      <td>0</td>\n",
       "      <td>171465.0</td>\n",
       "      <td>145196.0</td>\n",
       "      <td>110163.0</td>\n",
       "      <td>18500.0</td>\n",
       "      <td>13998.0</td>\n",
       "      <td>3760.0</td>\n",
       "      <td>0</td>\n",
       "    </tr>\n",
       "  </tbody>\n",
       "</table>\n",
       "</div>"
      ],
      "text/plain": [
       "   ID  LIMIT_BAL  MARRIAGE  EDUCATION  SEX  AGE  PAY_1  PAY_2  PAY_3  \\\n",
       "0   1    30000.0         1          1    2   40      0      0      0   \n",
       "1   2    20000.0         1          1    2   41      1      2      0   \n",
       "2   3    20000.0         1          1    2   36      0      0      0   \n",
       "3   4    20000.0         1          1    2   35      0      0      0   \n",
       "4   5   170000.0         1          1    2   38      0      0      0   \n",
       "\n",
       "   BILL_AMT1  BILL_AMT2  BILL_AMT3  PAY_AMT1  PAY_AMT2  PAY_AMT3  TARGET  \n",
       "0    24607.0    24430.0    23881.0    1700.0    1600.0    1287.0       0  \n",
       "1    17040.0    16474.0    17203.0       0.0    1300.0    1500.0       0  \n",
       "2    17332.0    18600.0    17947.0    1580.0    1367.0    1178.0       0  \n",
       "3     2003.0     2948.0     3372.0    1086.0    1000.0       0.0       0  \n",
       "4   171465.0   145196.0   110163.0   18500.0   13998.0    3760.0       0  "
      ]
     },
     "execution_count": 146,
     "metadata": {},
     "output_type": "execute_result"
    }
   ],
   "source": [
    "data=pd.read_csv('https://raw.githubusercontent.com/khairunisa6/Study-Case-Astra-Creditscore/master/training.csv', encoding='Latin1')\n",
    "data.head()"
   ]
  },
  {
   "cell_type": "code",
   "execution_count": 147,
   "metadata": {},
   "outputs": [
    {
     "data": {
      "text/html": [
       "<div>\n",
       "<style scoped>\n",
       "    .dataframe tbody tr th:only-of-type {\n",
       "        vertical-align: middle;\n",
       "    }\n",
       "\n",
       "    .dataframe tbody tr th {\n",
       "        vertical-align: top;\n",
       "    }\n",
       "\n",
       "    .dataframe thead th {\n",
       "        text-align: right;\n",
       "    }\n",
       "</style>\n",
       "<table border=\"1\" class=\"dataframe\">\n",
       "  <thead>\n",
       "    <tr style=\"text-align: right;\">\n",
       "      <th></th>\n",
       "      <th>LIMIT_BAL</th>\n",
       "      <th>MARRIAGE</th>\n",
       "      <th>EDUCATION</th>\n",
       "      <th>SEX</th>\n",
       "      <th>AGE</th>\n",
       "      <th>PAY_1</th>\n",
       "      <th>PAY_2</th>\n",
       "      <th>PAY_3</th>\n",
       "      <th>BILL_AMT1</th>\n",
       "      <th>BILL_AMT2</th>\n",
       "      <th>BILL_AMT3</th>\n",
       "      <th>PAY_AMT1</th>\n",
       "      <th>PAY_AMT2</th>\n",
       "      <th>PAY_AMT3</th>\n",
       "      <th>TARGET</th>\n",
       "    </tr>\n",
       "  </thead>\n",
       "  <tbody>\n",
       "    <tr>\n",
       "      <th>0</th>\n",
       "      <td>30000.0</td>\n",
       "      <td>1</td>\n",
       "      <td>1</td>\n",
       "      <td>2</td>\n",
       "      <td>40</td>\n",
       "      <td>0</td>\n",
       "      <td>0</td>\n",
       "      <td>0</td>\n",
       "      <td>24607.0</td>\n",
       "      <td>24430.0</td>\n",
       "      <td>23881.0</td>\n",
       "      <td>1700.0</td>\n",
       "      <td>1600.0</td>\n",
       "      <td>1287.0</td>\n",
       "      <td>0</td>\n",
       "    </tr>\n",
       "    <tr>\n",
       "      <th>1</th>\n",
       "      <td>20000.0</td>\n",
       "      <td>1</td>\n",
       "      <td>1</td>\n",
       "      <td>2</td>\n",
       "      <td>41</td>\n",
       "      <td>1</td>\n",
       "      <td>2</td>\n",
       "      <td>0</td>\n",
       "      <td>17040.0</td>\n",
       "      <td>16474.0</td>\n",
       "      <td>17203.0</td>\n",
       "      <td>0.0</td>\n",
       "      <td>1300.0</td>\n",
       "      <td>1500.0</td>\n",
       "      <td>0</td>\n",
       "    </tr>\n",
       "    <tr>\n",
       "      <th>2</th>\n",
       "      <td>20000.0</td>\n",
       "      <td>1</td>\n",
       "      <td>1</td>\n",
       "      <td>2</td>\n",
       "      <td>36</td>\n",
       "      <td>0</td>\n",
       "      <td>0</td>\n",
       "      <td>0</td>\n",
       "      <td>17332.0</td>\n",
       "      <td>18600.0</td>\n",
       "      <td>17947.0</td>\n",
       "      <td>1580.0</td>\n",
       "      <td>1367.0</td>\n",
       "      <td>1178.0</td>\n",
       "      <td>0</td>\n",
       "    </tr>\n",
       "    <tr>\n",
       "      <th>3</th>\n",
       "      <td>20000.0</td>\n",
       "      <td>1</td>\n",
       "      <td>1</td>\n",
       "      <td>2</td>\n",
       "      <td>35</td>\n",
       "      <td>0</td>\n",
       "      <td>0</td>\n",
       "      <td>0</td>\n",
       "      <td>2003.0</td>\n",
       "      <td>2948.0</td>\n",
       "      <td>3372.0</td>\n",
       "      <td>1086.0</td>\n",
       "      <td>1000.0</td>\n",
       "      <td>0.0</td>\n",
       "      <td>0</td>\n",
       "    </tr>\n",
       "    <tr>\n",
       "      <th>4</th>\n",
       "      <td>170000.0</td>\n",
       "      <td>1</td>\n",
       "      <td>1</td>\n",
       "      <td>2</td>\n",
       "      <td>38</td>\n",
       "      <td>0</td>\n",
       "      <td>0</td>\n",
       "      <td>0</td>\n",
       "      <td>171465.0</td>\n",
       "      <td>145196.0</td>\n",
       "      <td>110163.0</td>\n",
       "      <td>18500.0</td>\n",
       "      <td>13998.0</td>\n",
       "      <td>3760.0</td>\n",
       "      <td>0</td>\n",
       "    </tr>\n",
       "  </tbody>\n",
       "</table>\n",
       "</div>"
      ],
      "text/plain": [
       "   LIMIT_BAL  MARRIAGE  EDUCATION  SEX  AGE  PAY_1  PAY_2  PAY_3  BILL_AMT1  \\\n",
       "0    30000.0         1          1    2   40      0      0      0    24607.0   \n",
       "1    20000.0         1          1    2   41      1      2      0    17040.0   \n",
       "2    20000.0         1          1    2   36      0      0      0    17332.0   \n",
       "3    20000.0         1          1    2   35      0      0      0     2003.0   \n",
       "4   170000.0         1          1    2   38      0      0      0   171465.0   \n",
       "\n",
       "   BILL_AMT2  BILL_AMT3  PAY_AMT1  PAY_AMT2  PAY_AMT3  TARGET  \n",
       "0    24430.0    23881.0    1700.0    1600.0    1287.0       0  \n",
       "1    16474.0    17203.0       0.0    1300.0    1500.0       0  \n",
       "2    18600.0    17947.0    1580.0    1367.0    1178.0       0  \n",
       "3     2948.0     3372.0    1086.0    1000.0       0.0       0  \n",
       "4   145196.0   110163.0   18500.0   13998.0    3760.0       0  "
      ]
     },
     "execution_count": 147,
     "metadata": {},
     "output_type": "execute_result"
    }
   ],
   "source": [
    "data=data.drop(['ID'], axis=1)\n",
    "data.head()"
   ]
  },
  {
   "cell_type": "code",
   "execution_count": 148,
   "metadata": {},
   "outputs": [
    {
     "name": "stdout",
     "output_type": "stream",
     "text": [
      "<class 'pandas.core.frame.DataFrame'>\n",
      "RangeIndex: 16625 entries, 0 to 16624\n",
      "Data columns (total 15 columns):\n",
      "LIMIT_BAL    16625 non-null float64\n",
      "MARRIAGE     16625 non-null int64\n",
      "EDUCATION    16625 non-null int64\n",
      "SEX          16625 non-null int64\n",
      "AGE          16625 non-null int64\n",
      "PAY_1        16625 non-null int64\n",
      "PAY_2        16625 non-null int64\n",
      "PAY_3        16625 non-null int64\n",
      "BILL_AMT1    16625 non-null float64\n",
      "BILL_AMT2    16625 non-null float64\n",
      "BILL_AMT3    16625 non-null float64\n",
      "PAY_AMT1     16625 non-null float64\n",
      "PAY_AMT2     16625 non-null float64\n",
      "PAY_AMT3     16625 non-null float64\n",
      "TARGET       16625 non-null int64\n",
      "dtypes: float64(7), int64(8)\n",
      "memory usage: 1.9 MB\n"
     ]
    }
   ],
   "source": [
    "data.info()"
   ]
  },
  {
   "cell_type": "code",
   "execution_count": 149,
   "metadata": {},
   "outputs": [],
   "source": [
    "#Convert categorical variable from integer to object\n",
    "#this part have a purpose to simplify the creation of dummy variables at a next stage\n",
    "data['MARRIAGE']=data['MARRIAGE'].astype(object)\n",
    "data['EDUCATION']=data['EDUCATION'].astype(object)\n",
    "data['SEX']=data['SEX'].astype(object)\n",
    "data['PAY_1']=data['PAY_1'].astype(object)\n",
    "data['PAY_2']=data['PAY_2'].astype(object)\n",
    "data['PAY_3']=data['PAY_3'].astype(object)"
   ]
  },
  {
   "cell_type": "code",
   "execution_count": 150,
   "metadata": {},
   "outputs": [
    {
     "data": {
      "text/plain": [
       "(16625, 32)"
      ]
     },
     "execution_count": 150,
     "metadata": {},
     "output_type": "execute_result"
    }
   ],
   "source": [
    "#Defined of Target as variable dependent and Other variable as variable independent\n",
    "#Convert categorical variable to dummy variable\n",
    "\n",
    "y=data['TARGET']\n",
    "X=data.drop(['TARGET'],1)\n",
    "\n",
    "#Convert categorical variable to dummy variable\n",
    "X=pd.get_dummies(X)\n",
    "X.shape"
   ]
  },
  {
   "cell_type": "code",
   "execution_count": 151,
   "metadata": {},
   "outputs": [
    {
     "data": {
      "text/html": [
       "<div>\n",
       "<style scoped>\n",
       "    .dataframe tbody tr th:only-of-type {\n",
       "        vertical-align: middle;\n",
       "    }\n",
       "\n",
       "    .dataframe tbody tr th {\n",
       "        vertical-align: top;\n",
       "    }\n",
       "\n",
       "    .dataframe thead th {\n",
       "        text-align: right;\n",
       "    }\n",
       "</style>\n",
       "<table border=\"1\" class=\"dataframe\">\n",
       "  <thead>\n",
       "    <tr style=\"text-align: right;\">\n",
       "      <th></th>\n",
       "      <th>LIMIT_BAL</th>\n",
       "      <th>AGE</th>\n",
       "      <th>BILL_AMT1</th>\n",
       "      <th>BILL_AMT2</th>\n",
       "      <th>BILL_AMT3</th>\n",
       "      <th>PAY_AMT1</th>\n",
       "      <th>PAY_AMT2</th>\n",
       "      <th>PAY_AMT3</th>\n",
       "      <th>MARRIAGE_1</th>\n",
       "      <th>MARRIAGE_2</th>\n",
       "      <th>...</th>\n",
       "      <th>PAY_2_0</th>\n",
       "      <th>PAY_2_1</th>\n",
       "      <th>PAY_2_2</th>\n",
       "      <th>PAY_2_3</th>\n",
       "      <th>PAY_2_4</th>\n",
       "      <th>PAY_3_0</th>\n",
       "      <th>PAY_3_1</th>\n",
       "      <th>PAY_3_2</th>\n",
       "      <th>PAY_3_3</th>\n",
       "      <th>PAY_3_4</th>\n",
       "    </tr>\n",
       "  </thead>\n",
       "  <tbody>\n",
       "    <tr>\n",
       "      <th>0</th>\n",
       "      <td>30000.0</td>\n",
       "      <td>40</td>\n",
       "      <td>24607.0</td>\n",
       "      <td>24430.0</td>\n",
       "      <td>23881.0</td>\n",
       "      <td>1700.0</td>\n",
       "      <td>1600.0</td>\n",
       "      <td>1287.0</td>\n",
       "      <td>1</td>\n",
       "      <td>0</td>\n",
       "      <td>...</td>\n",
       "      <td>1</td>\n",
       "      <td>0</td>\n",
       "      <td>0</td>\n",
       "      <td>0</td>\n",
       "      <td>0</td>\n",
       "      <td>1</td>\n",
       "      <td>0</td>\n",
       "      <td>0</td>\n",
       "      <td>0</td>\n",
       "      <td>0</td>\n",
       "    </tr>\n",
       "    <tr>\n",
       "      <th>1</th>\n",
       "      <td>20000.0</td>\n",
       "      <td>41</td>\n",
       "      <td>17040.0</td>\n",
       "      <td>16474.0</td>\n",
       "      <td>17203.0</td>\n",
       "      <td>0.0</td>\n",
       "      <td>1300.0</td>\n",
       "      <td>1500.0</td>\n",
       "      <td>1</td>\n",
       "      <td>0</td>\n",
       "      <td>...</td>\n",
       "      <td>0</td>\n",
       "      <td>0</td>\n",
       "      <td>1</td>\n",
       "      <td>0</td>\n",
       "      <td>0</td>\n",
       "      <td>1</td>\n",
       "      <td>0</td>\n",
       "      <td>0</td>\n",
       "      <td>0</td>\n",
       "      <td>0</td>\n",
       "    </tr>\n",
       "    <tr>\n",
       "      <th>2</th>\n",
       "      <td>20000.0</td>\n",
       "      <td>36</td>\n",
       "      <td>17332.0</td>\n",
       "      <td>18600.0</td>\n",
       "      <td>17947.0</td>\n",
       "      <td>1580.0</td>\n",
       "      <td>1367.0</td>\n",
       "      <td>1178.0</td>\n",
       "      <td>1</td>\n",
       "      <td>0</td>\n",
       "      <td>...</td>\n",
       "      <td>1</td>\n",
       "      <td>0</td>\n",
       "      <td>0</td>\n",
       "      <td>0</td>\n",
       "      <td>0</td>\n",
       "      <td>1</td>\n",
       "      <td>0</td>\n",
       "      <td>0</td>\n",
       "      <td>0</td>\n",
       "      <td>0</td>\n",
       "    </tr>\n",
       "    <tr>\n",
       "      <th>3</th>\n",
       "      <td>20000.0</td>\n",
       "      <td>35</td>\n",
       "      <td>2003.0</td>\n",
       "      <td>2948.0</td>\n",
       "      <td>3372.0</td>\n",
       "      <td>1086.0</td>\n",
       "      <td>1000.0</td>\n",
       "      <td>0.0</td>\n",
       "      <td>1</td>\n",
       "      <td>0</td>\n",
       "      <td>...</td>\n",
       "      <td>1</td>\n",
       "      <td>0</td>\n",
       "      <td>0</td>\n",
       "      <td>0</td>\n",
       "      <td>0</td>\n",
       "      <td>1</td>\n",
       "      <td>0</td>\n",
       "      <td>0</td>\n",
       "      <td>0</td>\n",
       "      <td>0</td>\n",
       "    </tr>\n",
       "    <tr>\n",
       "      <th>4</th>\n",
       "      <td>170000.0</td>\n",
       "      <td>38</td>\n",
       "      <td>171465.0</td>\n",
       "      <td>145196.0</td>\n",
       "      <td>110163.0</td>\n",
       "      <td>18500.0</td>\n",
       "      <td>13998.0</td>\n",
       "      <td>3760.0</td>\n",
       "      <td>1</td>\n",
       "      <td>0</td>\n",
       "      <td>...</td>\n",
       "      <td>1</td>\n",
       "      <td>0</td>\n",
       "      <td>0</td>\n",
       "      <td>0</td>\n",
       "      <td>0</td>\n",
       "      <td>1</td>\n",
       "      <td>0</td>\n",
       "      <td>0</td>\n",
       "      <td>0</td>\n",
       "      <td>0</td>\n",
       "    </tr>\n",
       "  </tbody>\n",
       "</table>\n",
       "<p>5 rows × 32 columns</p>\n",
       "</div>"
      ],
      "text/plain": [
       "   LIMIT_BAL  AGE  BILL_AMT1  BILL_AMT2  BILL_AMT3  PAY_AMT1  PAY_AMT2  \\\n",
       "0    30000.0   40    24607.0    24430.0    23881.0    1700.0    1600.0   \n",
       "1    20000.0   41    17040.0    16474.0    17203.0       0.0    1300.0   \n",
       "2    20000.0   36    17332.0    18600.0    17947.0    1580.0    1367.0   \n",
       "3    20000.0   35     2003.0     2948.0     3372.0    1086.0    1000.0   \n",
       "4   170000.0   38   171465.0   145196.0   110163.0   18500.0   13998.0   \n",
       "\n",
       "   PAY_AMT3  MARRIAGE_1  MARRIAGE_2   ...     PAY_2_0  PAY_2_1  PAY_2_2  \\\n",
       "0    1287.0           1           0   ...           1        0        0   \n",
       "1    1500.0           1           0   ...           0        0        1   \n",
       "2    1178.0           1           0   ...           1        0        0   \n",
       "3       0.0           1           0   ...           1        0        0   \n",
       "4    3760.0           1           0   ...           1        0        0   \n",
       "\n",
       "   PAY_2_3  PAY_2_4  PAY_3_0  PAY_3_1  PAY_3_2  PAY_3_3  PAY_3_4  \n",
       "0        0        0        1        0        0        0        0  \n",
       "1        0        0        1        0        0        0        0  \n",
       "2        0        0        1        0        0        0        0  \n",
       "3        0        0        1        0        0        0        0  \n",
       "4        0        0        1        0        0        0        0  \n",
       "\n",
       "[5 rows x 32 columns]"
      ]
     },
     "execution_count": 151,
     "metadata": {},
     "output_type": "execute_result"
    }
   ],
   "source": [
    "X.head() #see new variable was created by dummies variable"
   ]
  },
  {
   "cell_type": "markdown",
   "metadata": {},
   "source": [
    "# Make Function Modelling"
   ]
  },
  {
   "cell_type": "markdown",
   "metadata": {},
   "source": [
    "### In this part, i build some model and get accurancy from it and then compared it\n",
    "### Method of Classifier:\n",
    "    1. Logistic Regression\n",
    "    2. Random Forest Classifier\n",
    "    3. Decision Tree Classifier\n",
    "    4. KNN Classifier"
   ]
  },
  {
   "cell_type": "markdown",
   "metadata": {},
   "source": [
    "## 1. Logistic Regression"
   ]
  },
  {
   "cell_type": "code",
   "execution_count": 152,
   "metadata": {},
   "outputs": [],
   "source": [
    "from sklearn.linear_model import LogisticRegression\n",
    "from sklearn import metrics"
   ]
  },
  {
   "cell_type": "code",
   "execution_count": 153,
   "metadata": {},
   "outputs": [
    {
     "data": {
      "text/plain": [
       "LogisticRegression(C=1.0, class_weight=None, dual=False, fit_intercept=True,\n",
       "          intercept_scaling=1, max_iter=100, multi_class='ovr', n_jobs=1,\n",
       "          penalty='l2', random_state=None, solver='liblinear', tol=0.0001,\n",
       "          verbose=0, warm_start=False)"
      ]
     },
     "execution_count": 153,
     "metadata": {},
     "output_type": "execute_result"
    }
   ],
   "source": [
    "#Model of Logistic Regression classification\n",
    "logreg = LogisticRegression()\n",
    "logreg.fit(X, y)"
   ]
  },
  {
   "cell_type": "code",
   "execution_count": 154,
   "metadata": {},
   "outputs": [
    {
     "name": "stdout",
     "output_type": "stream",
     "text": [
      "Accuracy of logistic regression classifier on test set: 0.63\n"
     ]
    }
   ],
   "source": [
    "#Get Accurancy of model logistic regression\n",
    "y_predLR = logreg.predict(X)\n",
    "print('Accuracy of logistic regression classifier on test set: {:.2f}'.format(logreg.score(X, y)))"
   ]
  },
  {
   "cell_type": "code",
   "execution_count": 155,
   "metadata": {},
   "outputs": [
    {
     "data": {
      "image/png": "[encoded data removed]",
      "text/plain": [
       "<matplotlib.figure.Figure at 0x20fb88c8668>"
      ]
     },
     "metadata": {},
     "output_type": "display_data"
    }
   ],
   "source": [
    "#Get Information of Area Under Curve (AUC)\n",
    "y_pred_probaLR = logreg.predict_proba(X)[::,1]\n",
    "fpr, tpr, _ = metrics.roc_curve(y,  y_pred_probaLR)\n",
    "auc = metrics.roc_auc_score(y, y_pred_probaLR)\n",
    "plt.plot(fpr,tpr,label=\"data 1, auc=\"+str(auc))\n",
    "plt.legend(loc=4)\n",
    "plt.show()"
   ]
  },
  {
   "cell_type": "markdown",
   "metadata": {},
   "source": [
    "## 2. Random Forest Classifier"
   ]
  },
  {
   "cell_type": "code",
   "execution_count": 156,
   "metadata": {},
   "outputs": [],
   "source": [
    "from sklearn.ensemble import RandomForestClassifier\n",
    "from sklearn.datasets import make_classification"
   ]
  },
  {
   "cell_type": "code",
   "execution_count": 157,
   "metadata": {},
   "outputs": [
    {
     "data": {
      "text/plain": [
       "RandomForestClassifier(bootstrap=True, class_weight=None, criterion='gini',\n",
       "            max_depth=2, max_features='auto', max_leaf_nodes=None,\n",
       "            min_impurity_decrease=0.0, min_impurity_split=None,\n",
       "            min_samples_leaf=1, min_samples_split=2,\n",
       "            min_weight_fraction_leaf=0.0, n_estimators=100, n_jobs=1,\n",
       "            oob_score=False, random_state=0, verbose=0, warm_start=False)"
      ]
     },
     "execution_count": 157,
     "metadata": {},
     "output_type": "execute_result"
    }
   ],
   "source": [
    "clf = RandomForestClassifier(n_estimators=100, max_depth=2,\n",
    "                             random_state=0)\n",
    "clf.fit(X, y)  "
   ]
  },
  {
   "cell_type": "code",
   "execution_count": 158,
   "metadata": {},
   "outputs": [],
   "source": [
    "y_predRF=clf.predict(X)"
   ]
  },
  {
   "cell_type": "code",
   "execution_count": 159,
   "metadata": {},
   "outputs": [
    {
     "name": "stdout",
     "output_type": "stream",
     "text": [
      "Accuracy: 0.7392481203007519\n"
     ]
    }
   ],
   "source": [
    "#Import scikit-learn metrics module for accuracy calculation\n",
    "from sklearn import metrics\n",
    "# Model Accuracy, how often is the classifier correct?\n",
    "print(\"Accuracy:\",metrics.accuracy_score(y, y_predRF))"
   ]
  },
  {
   "cell_type": "markdown",
   "metadata": {},
   "source": [
    "## 3. Decision Tree Classifier"
   ]
  },
  {
   "cell_type": "code",
   "execution_count": 160,
   "metadata": {},
   "outputs": [],
   "source": [
    "from sklearn.tree import DecisionTreeClassifier\n",
    "from sklearn import metrics"
   ]
  },
  {
   "cell_type": "code",
   "execution_count": 161,
   "metadata": {},
   "outputs": [],
   "source": [
    "X = data.drop(['TARGET'],axis=1) # Features\n",
    "y = data['TARGET'] # Target variable"
   ]
  },
  {
   "cell_type": "code",
   "execution_count": 162,
   "metadata": {},
   "outputs": [],
   "source": [
    "# Create Decision Tree classifer object\n",
    "clfdt = DecisionTreeClassifier()\n",
    "\n",
    "# Train Decision Tree Classifer\n",
    "clfdt = clfdt.fit(X, y)\n",
    "\n",
    "#Predict the response for test dataset\n",
    "y_pred = clfdt.predict(X)"
   ]
  },
  {
   "cell_type": "code",
   "execution_count": 163,
   "metadata": {},
   "outputs": [
    {
     "name": "stdout",
     "output_type": "stream",
     "text": [
      "Accuracy: 0.9996390977443609\n"
     ]
    }
   ],
   "source": [
    "# Model Accuracy, how often is the classifier correct?\n",
    "print(\"Accuracy:\",metrics.accuracy_score(y, y_pred))"
   ]
  },
  {
   "cell_type": "markdown",
   "metadata": {},
   "source": [
    "## 4. KNN Classifier"
   ]
  },
  {
   "cell_type": "code",
   "execution_count": 164,
   "metadata": {},
   "outputs": [],
   "source": [
    "#Import knearest neighbors Classifier model\n",
    "from sklearn.neighbors import KNeighborsClassifier\n",
    "\n",
    "#Create KNN Classifier\n",
    "knn = KNeighborsClassifier(n_neighbors=2)\n",
    "\n",
    "#Train the model using the training sets\n",
    "knn.fit(X, y)\n",
    "\n",
    "#Predict the response for test dataset\n",
    "y_pred = knn.predict(X)"
   ]
  },
  {
   "cell_type": "code",
   "execution_count": 165,
   "metadata": {},
   "outputs": [
    {
     "name": "stdout",
     "output_type": "stream",
     "text": [
      "Accuracy: 0.8692932330827068\n"
     ]
    }
   ],
   "source": [
    "#Import scikit-learn metrics module for accuracy calculation\n",
    "from sklearn import metrics\n",
    "# Model Accuracy, how often is the classifier correct?\n",
    "print(\"Accuracy:\",metrics.accuracy_score(y, y_pred))"
   ]
  },
  {
   "cell_type": "markdown",
   "metadata": {},
   "source": [
    "### By maintain results of the four models above then I used the decision tree to classify the credit scoring class."
   ]
  },
  {
   "cell_type": "markdown",
   "metadata": {},
   "source": [
    "### Save model in .pkl"
   ]
  },
  {
   "cell_type": "code",
   "execution_count": 166,
   "metadata": {},
   "outputs": [],
   "source": [
    "from sklearn.externals import joblib"
   ]
  },
  {
   "cell_type": "code",
   "execution_count": 167,
   "metadata": {},
   "outputs": [
    {
     "data": {
      "text/plain": [
       "['C:\\\\Users\\\\faizah064287\\\\Documents\\\\Data Scientist Boothcamp\\\\Python/Credit Scoring using Decision Tree.pkl']"
      ]
     },
     "execution_count": 167,
     "metadata": {},
     "output_type": "execute_result"
    }
   ],
   "source": [
    "joblib.dump(clfdt, r'C:\\Users\\faizah064287\\Documents\\Data Scientist Boothcamp\\Python/Credit Scoring using Decision Tree.pkl')"
   ]
  },
  {
   "cell_type": "markdown",
   "metadata": {},
   "source": [
    "### Data Testing"
   ]
  },
  {
   "cell_type": "code",
   "execution_count": 168,
   "metadata": {},
   "outputs": [
    {
     "data": {
      "text/html": [
       "<div>\n",
       "<style scoped>\n",
       "    .dataframe tbody tr th:only-of-type {\n",
       "        vertical-align: middle;\n",
       "    }\n",
       "\n",
       "    .dataframe tbody tr th {\n",
       "        vertical-align: top;\n",
       "    }\n",
       "\n",
       "    .dataframe thead th {\n",
       "        text-align: right;\n",
       "    }\n",
       "</style>\n",
       "<table border=\"1\" class=\"dataframe\">\n",
       "  <thead>\n",
       "    <tr style=\"text-align: right;\">\n",
       "      <th></th>\n",
       "      <th>LIMIT_BAL</th>\n",
       "      <th>MARRIAGE</th>\n",
       "      <th>EDUCATION</th>\n",
       "      <th>SEX</th>\n",
       "      <th>AGE</th>\n",
       "      <th>PAY_1</th>\n",
       "      <th>PAY_2</th>\n",
       "      <th>PAY_3</th>\n",
       "      <th>BILL_AMT1</th>\n",
       "      <th>BILL_AMT2</th>\n",
       "      <th>BILL_AMT3</th>\n",
       "      <th>PAY_AMT1</th>\n",
       "      <th>PAY_AMT2</th>\n",
       "      <th>PAY_AMT3</th>\n",
       "    </tr>\n",
       "  </thead>\n",
       "  <tbody>\n",
       "    <tr>\n",
       "      <th>0</th>\n",
       "      <td>30000.0</td>\n",
       "      <td>1</td>\n",
       "      <td>1</td>\n",
       "      <td>2</td>\n",
       "      <td>40</td>\n",
       "      <td>0</td>\n",
       "      <td>0</td>\n",
       "      <td>0</td>\n",
       "      <td>24430.0</td>\n",
       "      <td>23881.0</td>\n",
       "      <td>24234.0</td>\n",
       "      <td>1600.0</td>\n",
       "      <td>1287.0</td>\n",
       "      <td>1296.0</td>\n",
       "    </tr>\n",
       "    <tr>\n",
       "      <th>1</th>\n",
       "      <td>20000.0</td>\n",
       "      <td>1</td>\n",
       "      <td>1</td>\n",
       "      <td>2</td>\n",
       "      <td>41</td>\n",
       "      <td>2</td>\n",
       "      <td>0</td>\n",
       "      <td>0</td>\n",
       "      <td>16474.0</td>\n",
       "      <td>17203.0</td>\n",
       "      <td>18411.0</td>\n",
       "      <td>1300.0</td>\n",
       "      <td>1500.0</td>\n",
       "      <td>824.0</td>\n",
       "    </tr>\n",
       "    <tr>\n",
       "      <th>2</th>\n",
       "      <td>20000.0</td>\n",
       "      <td>1</td>\n",
       "      <td>1</td>\n",
       "      <td>2</td>\n",
       "      <td>36</td>\n",
       "      <td>0</td>\n",
       "      <td>0</td>\n",
       "      <td>0</td>\n",
       "      <td>18600.0</td>\n",
       "      <td>17947.0</td>\n",
       "      <td>18758.0</td>\n",
       "      <td>1367.0</td>\n",
       "      <td>1178.0</td>\n",
       "      <td>712.0</td>\n",
       "    </tr>\n",
       "    <tr>\n",
       "      <th>3</th>\n",
       "      <td>20000.0</td>\n",
       "      <td>1</td>\n",
       "      <td>1</td>\n",
       "      <td>2</td>\n",
       "      <td>35</td>\n",
       "      <td>0</td>\n",
       "      <td>0</td>\n",
       "      <td>0</td>\n",
       "      <td>2948.0</td>\n",
       "      <td>3372.0</td>\n",
       "      <td>0.0</td>\n",
       "      <td>1000.0</td>\n",
       "      <td>0.0</td>\n",
       "      <td>0.0</td>\n",
       "    </tr>\n",
       "    <tr>\n",
       "      <th>4</th>\n",
       "      <td>170000.0</td>\n",
       "      <td>1</td>\n",
       "      <td>1</td>\n",
       "      <td>2</td>\n",
       "      <td>38</td>\n",
       "      <td>0</td>\n",
       "      <td>0</td>\n",
       "      <td>0</td>\n",
       "      <td>145196.0</td>\n",
       "      <td>110163.0</td>\n",
       "      <td>112157.0</td>\n",
       "      <td>13998.0</td>\n",
       "      <td>3760.0</td>\n",
       "      <td>4000.0</td>\n",
       "    </tr>\n",
       "  </tbody>\n",
       "</table>\n",
       "</div>"
      ],
      "text/plain": [
       "   LIMIT_BAL  MARRIAGE  EDUCATION  SEX  AGE  PAY_1  PAY_2  PAY_3  BILL_AMT1  \\\n",
       "0    30000.0         1          1    2   40      0      0      0    24430.0   \n",
       "1    20000.0         1          1    2   41      2      0      0    16474.0   \n",
       "2    20000.0         1          1    2   36      0      0      0    18600.0   \n",
       "3    20000.0         1          1    2   35      0      0      0     2948.0   \n",
       "4   170000.0         1          1    2   38      0      0      0   145196.0   \n",
       "\n",
       "   BILL_AMT2  BILL_AMT3  PAY_AMT1  PAY_AMT2  PAY_AMT3  \n",
       "0    23881.0    24234.0    1600.0    1287.0    1296.0  \n",
       "1    17203.0    18411.0    1300.0    1500.0     824.0  \n",
       "2    17947.0    18758.0    1367.0    1178.0     712.0  \n",
       "3     3372.0        0.0    1000.0       0.0       0.0  \n",
       "4   110163.0   112157.0   13998.0    3760.0    4000.0  "
      ]
     },
     "execution_count": 168,
     "metadata": {},
     "output_type": "execute_result"
    }
   ],
   "source": [
    "datatest=pd.read_csv('https://raw.githubusercontent.com/khairunisa6/Study-Case-Astra-Creditscore/master/testing.csv', sep=';', encoding='Latin1')\n",
    "datatest=datatest.drop(['ID'], axis=1)\n",
    "datatest.head()"
   ]
  },
  {
   "cell_type": "code",
   "execution_count": 169,
   "metadata": {},
   "outputs": [],
   "source": [
    "datatest['MARRIAGE']=datatest['MARRIAGE'].astype(object)\n",
    "datatest['EDUCATION']=datatest['EDUCATION'].astype(object)\n",
    "datatest['SEX']=datatest['SEX'].astype(object)\n",
    "datatest['PAY_1']=datatest['PAY_1'].astype(object)\n",
    "datatest['PAY_2']=datatest['PAY_2'].astype(object)\n",
    "datatest['PAY_3']=datatest['PAY_3'].astype(object)"
   ]
  },
  {
   "cell_type": "code",
   "execution_count": 170,
   "metadata": {},
   "outputs": [],
   "source": [
    "decision_tree_model_load = joblib.load(r'C:\\Users\\faizah064287\\Documents\\Data Scientist Boothcamp\\Python/Credit Scoring using Decision Tree.pkl')"
   ]
  },
  {
   "cell_type": "code",
   "execution_count": 171,
   "metadata": {},
   "outputs": [],
   "source": [
    "datatest['TARGET'] = decision_tree_model_load.predict(datatest)"
   ]
  },
  {
   "cell_type": "code",
   "execution_count": 172,
   "metadata": {},
   "outputs": [
    {
     "data": {
      "text/html": [
       "<div>\n",
       "<style scoped>\n",
       "    .dataframe tbody tr th:only-of-type {\n",
       "        vertical-align: middle;\n",
       "    }\n",
       "\n",
       "    .dataframe tbody tr th {\n",
       "        vertical-align: top;\n",
       "    }\n",
       "\n",
       "    .dataframe thead th {\n",
       "        text-align: right;\n",
       "    }\n",
       "</style>\n",
       "<table border=\"1\" class=\"dataframe\">\n",
       "  <thead>\n",
       "    <tr style=\"text-align: right;\">\n",
       "      <th></th>\n",
       "      <th>LIMIT_BAL</th>\n",
       "      <th>MARRIAGE</th>\n",
       "      <th>EDUCATION</th>\n",
       "      <th>SEX</th>\n",
       "      <th>AGE</th>\n",
       "      <th>PAY_1</th>\n",
       "      <th>PAY_2</th>\n",
       "      <th>PAY_3</th>\n",
       "      <th>BILL_AMT1</th>\n",
       "      <th>BILL_AMT2</th>\n",
       "      <th>BILL_AMT3</th>\n",
       "      <th>PAY_AMT1</th>\n",
       "      <th>PAY_AMT2</th>\n",
       "      <th>PAY_AMT3</th>\n",
       "      <th>TARGET</th>\n",
       "    </tr>\n",
       "  </thead>\n",
       "  <tbody>\n",
       "    <tr>\n",
       "      <th>0</th>\n",
       "      <td>30000.0</td>\n",
       "      <td>1</td>\n",
       "      <td>1</td>\n",
       "      <td>2</td>\n",
       "      <td>40</td>\n",
       "      <td>0</td>\n",
       "      <td>0</td>\n",
       "      <td>0</td>\n",
       "      <td>24430.0</td>\n",
       "      <td>23881.0</td>\n",
       "      <td>24234.0</td>\n",
       "      <td>1600.0</td>\n",
       "      <td>1287.0</td>\n",
       "      <td>1296.0</td>\n",
       "      <td>0</td>\n",
       "    </tr>\n",
       "    <tr>\n",
       "      <th>1</th>\n",
       "      <td>20000.0</td>\n",
       "      <td>1</td>\n",
       "      <td>1</td>\n",
       "      <td>2</td>\n",
       "      <td>41</td>\n",
       "      <td>2</td>\n",
       "      <td>0</td>\n",
       "      <td>0</td>\n",
       "      <td>16474.0</td>\n",
       "      <td>17203.0</td>\n",
       "      <td>18411.0</td>\n",
       "      <td>1300.0</td>\n",
       "      <td>1500.0</td>\n",
       "      <td>824.0</td>\n",
       "      <td>0</td>\n",
       "    </tr>\n",
       "    <tr>\n",
       "      <th>2</th>\n",
       "      <td>20000.0</td>\n",
       "      <td>1</td>\n",
       "      <td>1</td>\n",
       "      <td>2</td>\n",
       "      <td>36</td>\n",
       "      <td>0</td>\n",
       "      <td>0</td>\n",
       "      <td>0</td>\n",
       "      <td>18600.0</td>\n",
       "      <td>17947.0</td>\n",
       "      <td>18758.0</td>\n",
       "      <td>1367.0</td>\n",
       "      <td>1178.0</td>\n",
       "      <td>712.0</td>\n",
       "      <td>0</td>\n",
       "    </tr>\n",
       "    <tr>\n",
       "      <th>3</th>\n",
       "      <td>20000.0</td>\n",
       "      <td>1</td>\n",
       "      <td>1</td>\n",
       "      <td>2</td>\n",
       "      <td>35</td>\n",
       "      <td>0</td>\n",
       "      <td>0</td>\n",
       "      <td>0</td>\n",
       "      <td>2948.0</td>\n",
       "      <td>3372.0</td>\n",
       "      <td>0.0</td>\n",
       "      <td>1000.0</td>\n",
       "      <td>0.0</td>\n",
       "      <td>0.0</td>\n",
       "      <td>0</td>\n",
       "    </tr>\n",
       "    <tr>\n",
       "      <th>4</th>\n",
       "      <td>170000.0</td>\n",
       "      <td>1</td>\n",
       "      <td>1</td>\n",
       "      <td>2</td>\n",
       "      <td>38</td>\n",
       "      <td>0</td>\n",
       "      <td>0</td>\n",
       "      <td>0</td>\n",
       "      <td>145196.0</td>\n",
       "      <td>110163.0</td>\n",
       "      <td>112157.0</td>\n",
       "      <td>13998.0</td>\n",
       "      <td>3760.0</td>\n",
       "      <td>4000.0</td>\n",
       "      <td>0</td>\n",
       "    </tr>\n",
       "  </tbody>\n",
       "</table>\n",
       "</div>"
      ],
      "text/plain": [
       "   LIMIT_BAL MARRIAGE EDUCATION SEX  AGE PAY_1 PAY_2 PAY_3  BILL_AMT1  \\\n",
       "0    30000.0        1         1   2   40     0     0     0    24430.0   \n",
       "1    20000.0        1         1   2   41     2     0     0    16474.0   \n",
       "2    20000.0        1         1   2   36     0     0     0    18600.0   \n",
       "3    20000.0        1         1   2   35     0     0     0     2948.0   \n",
       "4   170000.0        1         1   2   38     0     0     0   145196.0   \n",
       "\n",
       "   BILL_AMT2  BILL_AMT3  PAY_AMT1  PAY_AMT2  PAY_AMT3  TARGET  \n",
       "0    23881.0    24234.0    1600.0    1287.0    1296.0       0  \n",
       "1    17203.0    18411.0    1300.0    1500.0     824.0       0  \n",
       "2    17947.0    18758.0    1367.0    1178.0     712.0       0  \n",
       "3     3372.0        0.0    1000.0       0.0       0.0       0  \n",
       "4   110163.0   112157.0   13998.0    3760.0    4000.0       0  "
      ]
     },
     "execution_count": 172,
     "metadata": {},
     "output_type": "execute_result"
    }
   ],
   "source": [
    "datatest.head()"
   ]
  },
  {
   "cell_type": "code",
   "execution_count": null,
   "metadata": {},
   "outputs": [],
   "source": []
  }
 ],
 "metadata": {
  "kernelspec": {
   "display_name": "Python 3",
   "language": "python",
   "name": "python3"
  },
  "language_info": {
   "codemirror_mode": {
    "name": "ipython",
    "version": 3
   },
   "file_extension": ".py",
   "mimetype": "text/x-python",
   "name": "python",
   "nbconvert_exporter": "python",
   "pygments_lexer": "ipython3",
   "version": "3.6.4"
  }
 },
 "nbformat": 4,
 "nbformat_minor": 2
}
